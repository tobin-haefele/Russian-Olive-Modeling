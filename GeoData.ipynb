{
 "cells": [
  {
   "cell_type": "code",
   "execution_count": 57,
   "metadata": {},
   "outputs": [
    {
     "data": {
      "text/plain": [
       "arcgis.layers._msl.map_layers.MapFeatureLayer"
      ]
     },
     "execution_count": 57,
     "metadata": {},
     "output_type": "execute_result"
    }
   ],
   "source": [
    "from arcgis.gis import GIS\n",
    "from arcgis.layers import Service\n",
    "\n",
    "my_gis = GIS()\n",
    "wetlands_url = \"https://gisservicemt.gov/arcgis/rest/services/MSDI_Framework/WetlandsRiparian/MapServer/0\"\n",
    "\n",
    "flc = Service(\n",
    "    url_or_item = wetlands_url\n",
    ")\n",
    "\n",
    "flc\n",
    "\n",
    "type(flc)\n",
    "\n"
   ]
  },
  {
   "cell_type": "code",
   "execution_count": null,
   "metadata": {},
   "outputs": [
    {
     "name": "stdout",
     "output_type": "stream",
     "text": [
      "<MapFeatureLayer url:\"https://gisservicemt.gov/arcgis/rest/services/MSDI_Framework/WetlandsRiparian/MapServer/0\">\n"
     ]
    }
   ],
   "source": [
    "#convert feature layer\n"
   ]
  },
  {
   "cell_type": "code",
   "execution_count": null,
   "metadata": {},
   "outputs": [],
   "source": []
  }
 ],
 "metadata": {
  "kernelspec": {
   "display_name": "Python 3",
   "language": "python",
   "name": "python3"
  },
  "language_info": {
   "codemirror_mode": {
    "name": "ipython",
    "version": 3
   },
   "file_extension": ".py",
   "mimetype": "text/x-python",
   "name": "python",
   "nbconvert_exporter": "python",
   "pygments_lexer": "ipython3",
   "version": "3.12.9"
  }
 },
 "nbformat": 4,
 "nbformat_minor": 2
}
